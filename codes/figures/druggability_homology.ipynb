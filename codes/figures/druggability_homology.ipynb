{
 "cells": [
  {
   "cell_type": "code",
   "execution_count": 21,
   "id": "a02ff8d6",
   "metadata": {},
   "outputs": [],
   "source": [
    "from Bio import Entrez\n",
    "from Bio import SeqIO\n",
    "import cobra"
   ]
  },
  {
   "cell_type": "code",
   "execution_count": 2,
   "id": "0b778733",
   "metadata": {},
   "outputs": [],
   "source": [
    "model = cobra.io.read_sbml_model(\"iYL1228.xml\")"
   ]
  },
  {
   "cell_type": "code",
   "execution_count": 4,
   "id": "1a9394d4",
   "metadata": {},
   "outputs": [],
   "source": [
    "genes = model.genes\n",
    "gene_dict = {}\n",
    "for gene in genes:\n",
    "    gene_dict[f'{gene.name}'] = gene.id"
   ]
  },
  {
   "cell_type": "code",
   "execution_count": 5,
   "id": "2386c883",
   "metadata": {},
   "outputs": [],
   "source": [
    "target_gene = (\"nrdG\",\"nrdD\",\"fpr\",\"fldA\",\"fldB\",\"ilvE\",\"KPN_01365\",\n",
    "               \"tyrB\",\"fdoH\",\"fdoI\",\"srlA\",\"srlB\",\"gcvT\",\"gcvP\",\"gcvH\",\n",
    "               \"leuD\",\"leuC\",\"leuB\",\"KPN_04674\",\"KPN_04671\",\"gltS\"\n",
    ")"
   ]
  },
  {
   "cell_type": "code",
   "execution_count": 6,
   "id": "ebb573ad",
   "metadata": {},
   "outputs": [],
   "source": [
    "Entrez.email = \"naufal.alifkun@gmail.com\""
   ]
  },
  {
   "cell_type": "code",
   "execution_count": 18,
   "id": "71b5e138",
   "metadata": {},
   "outputs": [
    {
     "name": "stdout",
     "output_type": "stream",
     "text": [
      "['3046395367']\n"
     ]
    }
   ],
   "source": [
    "with Entrez.esearch(db='protein',retmax=1,term=f\"ilvE \\\"Klebsiella pneumoniae\\\"[Organism]\") as handle:\n",
    "    record = Entrez.read(handle)\n",
    "    idlist = record['IdList']\n",
    "    print(idlist)"
   ]
  },
  {
   "cell_type": "code",
   "execution_count": 19,
   "id": "15493cd0",
   "metadata": {},
   "outputs": [],
   "source": [
    "efetch_id = []\n",
    "for gene in target_gene:\n",
    "    with Entrez.esearch(db='protein',retmax=1,term=f\"{gene} \\\"Klebsiella pneumoniae\\\"[Organism]\") as handle:\n",
    "        record = Entrez.read(handle)\n",
    "        efetch_id.append(record['IdList'][0])\n"
   ]
  },
  {
   "cell_type": "code",
   "execution_count": 20,
   "id": "6f605361",
   "metadata": {},
   "outputs": [
    {
     "name": "stdout",
     "output_type": "stream",
     "text": [
      "['3044336875', '3041978596', '3045019944', '3044336014', '3044338144', '3046395367', '150954767', '3044337096', '3033795751', '3044337314', '3045592410', '3044338420', '3044338130', '3046321951', '2875232022', '1949106379', '3045033896', '3044336616', '150957995', '150957992', '3044273755']\n"
     ]
    }
   ],
   "source": [
    "print(efetch_id)"
   ]
  },
  {
   "cell_type": "code",
   "execution_count": 26,
   "id": "3d5cc2bd",
   "metadata": {},
   "outputs": [],
   "source": [
    "for i in range(len(target_gene)):\n",
    "    with Entrez.efetch(db='protein',id=efetch_id[i],retmax=1,rettype=\"fasta\",retmode=\"text\") as handle:\n",
    "        record = SeqIO.read(handle,format=\"fasta\")\n",
    "        with open(f\"target_seq/{target_gene[i]}.fasta\",mode='w') as f:\n",
    "            SeqIO.write(record,f,\"fasta\")"
   ]
  },
  {
   "cell_type": "code",
   "execution_count": 32,
   "id": "cd6167d1",
   "metadata": {},
   "outputs": [
    {
     "name": "stdout",
     "output_type": "stream",
     "text": [
      "nrdG\n",
      "nrdD\n",
      "fpr\n",
      "fldA\n",
      "fldB\n",
      "ilvE\n",
      "KPN_01365\n",
      "tyrB\n",
      "fdoH\n",
      "fdoI\n",
      "srlA\n",
      "srlB\n",
      "gcvT\n",
      "gcvP\n",
      "gcvH\n",
      "leuD\n",
      "leuC\n",
      "leuB\n",
      "KPN_04674\n",
      "KPN_04671\n",
      "gltS\n"
     ]
    }
   ],
   "source": [
    "for x in target_gene:\n",
    "    print(x)"
   ]
  }
 ],
 "metadata": {
  "kernelspec": {
   "display_name": "Python 3",
   "language": "python",
   "name": "python3"
  },
  "language_info": {
   "codemirror_mode": {
    "name": "ipython",
    "version": 3
   },
   "file_extension": ".py",
   "mimetype": "text/x-python",
   "name": "python",
   "nbconvert_exporter": "python",
   "pygments_lexer": "ipython3",
   "version": "3.10.6"
  }
 },
 "nbformat": 4,
 "nbformat_minor": 5
}
