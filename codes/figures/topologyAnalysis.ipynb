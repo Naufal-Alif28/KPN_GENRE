{
 "cells": [
  {
   "cell_type": "code",
   "execution_count": 1,
   "id": "0f5e2e6e",
   "metadata": {},
   "outputs": [],
   "source": [
    "import cobra\n",
    "import csv\n",
    "import pandas as pd"
   ]
  },
  {
   "cell_type": "code",
   "execution_count": 2,
   "id": "10e73f4f",
   "metadata": {},
   "outputs": [],
   "source": [
    "high_gene_set = set()\n",
    "with open(\"high_genes.csv\",mode='r') as f:\n",
    "    handle = csv.reader(f,delimiter=',')\n",
    "    lines = list(handle)\n",
    "for line in lines[1:]:\n",
    "    high_gene_set.add(line[1].rstrip())"
   ]
  },
  {
   "cell_type": "code",
   "execution_count": 3,
   "id": "db3b2a04",
   "metadata": {},
   "outputs": [],
   "source": [
    "common_rxn_set = set()\n",
    "with open(\"common_clinical.txt\",mode='r') as f:\n",
    "    for line in f:\n",
    "        common_rxn_set.add(line.rstrip())"
   ]
  },
  {
   "cell_type": "code",
   "execution_count": 4,
   "id": "b9c4f941",
   "metadata": {},
   "outputs": [],
   "source": [
    "model = cobra.io.read_sbml_model(\"iYL1228.xml\")"
   ]
  },
  {
   "cell_type": "code",
   "execution_count": 5,
   "id": "c3de268d",
   "metadata": {},
   "outputs": [],
   "source": [
    "rxn_set = set()\n",
    "gene_set = set()\n",
    "source_node = []\n",
    "target_node = []\n"
   ]
  },
  {
   "cell_type": "code",
   "execution_count": null,
   "id": "689cdf98",
   "metadata": {},
   "outputs": [],
   "source": [
    "#create network dataframe\n",
    "for x in high_gene_set:\n",
    "    if x not in gene_set:\n",
    "        try:\n",
    "            gene = model.genes.get_by_id(x)\n",
    "        except:\n",
    "            pass\n",
    "        else:\n",
    "            rxns_of_gene = [rxn.id for rxn in gene.reactions]\n",
    "            for y in rxns_of_gene:\n",
    "                if not y in rxn_set:\n",
    "                    try:\n",
    "                        rxn = model.reactions.get_by_id(y)\n",
    "                    except:\n",
    "                        pass\n",
    "                    else:\n",
    "                        genes_of_rxn = [gene.id for gene in rxn.genes]\n",
    "                        for z in genes_of_rxn:\n",
    "                            source_node.append(y)\n",
    "                            target_node.append(model.genes.get_by_id(z).name)\n",
    "                            rxn_set.add(y)\n",
    "                            gene_set.add(z)"
   ]
  },
  {
   "cell_type": "code",
   "execution_count": 7,
   "id": "d30d9698",
   "metadata": {},
   "outputs": [],
   "source": [
    "for x in common_rxn_set:\n",
    "    if x not in rxn_set:\n",
    "        try:\n",
    "            rxn = model.reactions.get_by_id(x)\n",
    "        except:\n",
    "            pass\n",
    "        else:\n",
    "            genes_of_rxn = [gene.id for gene in rxn.genes]\n",
    "            for y in genes_of_rxn:\n",
    "                if not y in gene_set:\n",
    "                    try:\n",
    "                        gene = model.genes.get_by_id(y)\n",
    "                    except:\n",
    "                        pass\n",
    "                    else:\n",
    "                        rxns_of_gene = [rxn.id for rxn in gene.reactions]\n",
    "                        for z in rxns_of_gene:\n",
    "                            source_node.append(model.genes.get_by_id(y).name)\n",
    "                            target_node.append(z)\n",
    "                            gene_set.add(y)\n",
    "                            rxn_set.add(z)"
   ]
  },
  {
   "cell_type": "code",
   "execution_count": 8,
   "id": "79ea158b",
   "metadata": {},
   "outputs": [],
   "source": [
    "network_dict = {\n",
    "    'source_node' : source_node,\n",
    "    'target_node' : target_node \n",
    "}\n",
    "df_network = pd.DataFrame(network_dict)\n",
    "df_network.to_csv(\"common-high_network2.csv\",index=False)"
   ]
  },
  {
   "cell_type": "code",
   "execution_count": null,
   "id": "96ec7d68",
   "metadata": {},
   "outputs": [],
   "source": [
    "#create nodes dataframe\n",
    "nodes = []\n",
    "colour = []\n",
    "shape = []\n",
    "outline = []"
   ]
  },
  {
   "cell_type": "code",
   "execution_count": 157,
   "id": "e7505669",
   "metadata": {},
   "outputs": [],
   "source": [
    "for rxn in rxn_set:\n",
    "    #nodes\n",
    "    nodes.append(rxn)\n",
    "    #colour\n",
    "    compartment_set = model.reactions.get_by_id(rxn).compartments\n",
    "    compartment_list = []\n",
    "    for x in compartment_set:\n",
    "        compartment_list.append(x)\n",
    "        compartment_list = sorted(compartment_list)\n",
    "    compartment_str = \"\".join(compartment_list)\n",
    "    colour.append(compartment_str)\n",
    "    #shape\n",
    "    shape.append(\"rect\")\n",
    "    #outline\n",
    "    if rxn in common_rxn_set:\n",
    "        outline.append(\"bold\")\n",
    "    else:\n",
    "        outline.append(\"no\")\n"
   ]
  },
  {
   "cell_type": "code",
   "execution_count": 158,
   "id": "2a69bf38",
   "metadata": {},
   "outputs": [],
   "source": [
    "for gene in gene_set:\n",
    "    try:\n",
    "        #nodes\n",
    "        nodes.append(model.genes.get_by_id(gene).name)\n",
    "    except:\n",
    "        pass\n",
    "    else:\n",
    "        #colour\n",
    "        colour.append(\"gene\")\n",
    "        #shape\n",
    "        shape.append(\"circ\")\n",
    "        #outline\n",
    "        if gene in high_gene_set:\n",
    "            outline.append(\"bold\")\n",
    "        else:\n",
    "            outline.append(\"no\")"
   ]
  },
  {
   "cell_type": "code",
   "execution_count": 159,
   "id": "2aeea776",
   "metadata": {},
   "outputs": [],
   "source": [
    "nodes_dict = {\n",
    "    'nodes' : nodes,\n",
    "    'colour' : colour,\n",
    "    'shape' : shape,\n",
    "    'outline' : outline\n",
    "}\n",
    "df_nodes = pd.DataFrame(nodes_dict)\n",
    "df_nodes.to_csv(\"common-high_nodes2.csv\",index=False)"
   ]
  },
  {
   "cell_type": "code",
   "execution_count": 142,
   "id": "6e5d911f",
   "metadata": {},
   "outputs": [
    {
     "name": "stdout",
     "output_type": "stream",
     "text": [
      "32\n"
     ]
    }
   ],
   "source": [
    "count = 0\n",
    "for gene in gene_set:\n",
    "    try:\n",
    "        #nodes\n",
    "        nodes.append(model.genes.get_by_id(gene).name)\n",
    "    except:\n",
    "        pass\n",
    "    else:\n",
    "        if gene in high_gene_set:\n",
    "            count += 1\n",
    "\n",
    "print(count)"
   ]
  },
  {
   "cell_type": "code",
   "execution_count": 9,
   "id": "fd9eb14d",
   "metadata": {},
   "outputs": [
    {
     "name": "stdout",
     "output_type": "stream",
     "text": [
      "set()\n"
     ]
    }
   ],
   "source": [
    "source_node_set = set(source_node)\n",
    "target_node_set = set(target_node)\n",
    "intersect = source_node_set.intersection(target_node_set)\n",
    "print(intersect)"
   ]
  },
  {
   "cell_type": "code",
   "execution_count": 23,
   "id": "ac5ca6fe",
   "metadata": {},
   "outputs": [],
   "source": [
    "#nodes dataframe v2\n",
    "nodes = []\n",
    "node_type = []\n",
    "is_high = []\n",
    "is_common = []\n",
    "is_vf = []\n",
    "compartment = []\n",
    "\n",
    "vf_set = {\n",
    "    \"fimK\",\"fimH\",\"fimG\",\"fimF\",\"fimD\",\"fimC\",\"fimI\",\"fimA\",\"fimE\",\"fimB\",\n",
    "    \"mkrJ\",\"mrkI\",\"mrkH\",\"rcsB\",\"galF\",\"iroD\",\"sciN\",\"tssJ\",\"tssG\",\"tssF\",\n",
    "    \"hcp\",\"tssD\",\"clpV\",\"tssH\",\"vgrG\",\"ompA\",\"dotU\",\"tssL\",\"vasE\",\"tssK\",\n",
    "    \"vipB\",\"tssC\",\"vipA\",\"tssB\",\"entA\",\"entB\",\"entE\",\"entC\",\"entC\",\"entS\",\n",
    "    \"entF\",\"fes\",\"fepA\",\"entD\",\"iutA\",\"fepB\",\"fepD\",\"fepG\",\"fepC\",\"allD\",\n",
    "    \"allC\",\"allB\",\"allR\",\"allA\",\"allS\",\"acrA\",\"acrB\"\n",
    "}\n"
   ]
  },
  {
   "cell_type": "code",
   "execution_count": 24,
   "id": "d12cc0d4",
   "metadata": {},
   "outputs": [],
   "source": [
    "for rxn in rxn_set:\n",
    "    nodes.append(rxn)\n",
    "    node_type.append(\"rxn\")\n",
    "    is_high.append(\"NA\")\n",
    "    if rxn in common_rxn_set:\n",
    "        is_common.append(\"Y\")\n",
    "    else:\n",
    "        is_common.append(\"N\")\n",
    "    is_vf.append(\"NA\")\n",
    "    #ccompartment\n",
    "    compartment_set = model.reactions.get_by_id(rxn).compartments\n",
    "    compartment_list = []\n",
    "    for x in compartment_set:\n",
    "        compartment_list.append(x)\n",
    "        compartment_list = sorted(compartment_list)\n",
    "    compartment_str = \"\".join(compartment_list)\n",
    "    compartment.append(compartment_str)\n",
    "    "
   ]
  },
  {
   "cell_type": "code",
   "execution_count": 25,
   "id": "03917f75",
   "metadata": {},
   "outputs": [],
   "source": [
    "for gene in gene_set:\n",
    "    try:\n",
    "        gene_name = model.genes.get_by_id(gene).name\n",
    "    except:\n",
    "        pass\n",
    "    else:\n",
    "        nodes.append(gene_name)\n",
    "        node_type.append(\"gene\")\n",
    "        if gene in high_gene_set:\n",
    "            is_high.append(\"Y\")\n",
    "        else:\n",
    "            is_high.append(\"N\")\n",
    "        is_common.append(\"NA\")\n",
    "        if gene in vf_set:\n",
    "            is_vf.append(\"Y\")\n",
    "        else:\n",
    "            is_vf.append(\"N\")\n",
    "        compartment.append(\"NA\")"
   ]
  },
  {
   "cell_type": "code",
   "execution_count": 27,
   "id": "3f5c4b9e",
   "metadata": {},
   "outputs": [],
   "source": [
    "nodes_dict = {\n",
    "    'nodes' : nodes,\n",
    "    'node_type' : node_type,\n",
    "    'is_high' : is_high,\n",
    "    'is_vf' : is_vf,\n",
    "    'is_common' : is_common,\n",
    "    'compartment' : compartment\n",
    "}\n",
    "df_nodes = pd.DataFrame(nodes_dict)\n",
    "df_nodes.to_csv(\"common-high_nodes3.csv\",index=False)"
   ]
  }
 ],
 "metadata": {
  "kernelspec": {
   "display_name": "Python 3",
   "language": "python",
   "name": "python3"
  },
  "language_info": {
   "codemirror_mode": {
    "name": "ipython",
    "version": 3
   },
   "file_extension": ".py",
   "mimetype": "text/x-python",
   "name": "python",
   "nbconvert_exporter": "python",
   "pygments_lexer": "ipython3",
   "version": "3.10.6"
  }
 },
 "nbformat": 4,
 "nbformat_minor": 5
}
